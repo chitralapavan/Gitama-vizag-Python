{
 "cells": [
  {
   "cell_type": "markdown",
   "metadata": {},
   "source": [
    "### year=int(input(''))\n",
    "if year % 400==0 or (year % 100 !=0 and year %4 ==0):\n",
    "    print('leap year')\n",
    "else:\n",
    "    print('not leap year')"
   ]
  },
  {
   "cell_type": "code",
   "execution_count": null,
   "metadata": {},
   "outputs": [],
   "source": []
  },
  {
   "cell_type": "code",
   "execution_count": 6,
   "metadata": {},
   "outputs": [
    {
     "name": "stdout",
     "output_type": "stream",
     "text": [
      "Enter the number :10\n",
      "1 2 3 4 5 6 7 8 9 10 "
     ]
    }
   ],
   "source": [
    "# print numbers  from 1 to N\n",
    "#Input :10\n",
    "#output:1 2 3 ......10\n",
    "\n",
    "n=int(input('Enter the number :'))\n",
    "i=1\n",
    "while i<=n:\n",
    "    print(i,end=' ')\n",
    "    i=i+1\n"
   ]
  },
  {
   "cell_type": "code",
   "execution_count": 16,
   "metadata": {},
   "outputs": [
    {
     "name": "stdout",
     "output_type": "stream",
     "text": [
      "Enter the number:10\n",
      "2 4 6 8 10 \n",
      "30\n"
     ]
    }
   ],
   "source": [
    "#Read a number as input\n",
    "#output as only as even number sum from 1 to N\n",
    "#input:10\n",
    "#output:30\n",
    "n=int(input('Enter the number:'))\n",
    "i=1\n",
    "s=0\n",
    "while i<=n:\n",
    "    if i%2==0:\n",
    "        print(i,end=' ')\n",
    "        s=s+i\n",
    "    i=i+1\n",
    "print()\n",
    "print(s)"
   ]
  },
  {
   "cell_type": "code",
   "execution_count": 17,
   "metadata": {},
   "outputs": [
    {
     "name": "stdout",
     "output_type": "stream",
     "text": [
      "123\n",
      "3 2 1 "
     ]
    }
   ],
   "source": [
    "#Read a number as input\n",
    "#output has be Digits of the number \n",
    "\n",
    "#input:123\n",
    "#output:3 2 1\n",
    "\n",
    "n=int(input(''))\n",
    "while n!=0:\n",
    "    print(n%10,end=' ')\n",
    "    n=n//10\n",
    "    "
   ]
  },
  {
   "cell_type": "markdown",
   "metadata": {},
   "source": [
    "### Functional programming\n",
    "- simple\n",
    "- Easy understand\n",
    "- Better Reusebility\n",
    "- Length program will be divided into sub program"
   ]
  },
  {
   "cell_type": "code",
   "execution_count": null,
   "metadata": {},
   "outputs": [],
   "source": [
    "def nameofthefunction(<parameters>):\n",
    "    statements\n",
    "    return"
   ]
  },
  {
   "cell_type": "code",
   "execution_count": 1,
   "metadata": {},
   "outputs": [
    {
     "data": {
      "text/plain": [
       "6"
      ]
     },
     "execution_count": 1,
     "metadata": {},
     "output_type": "execute_result"
    }
   ],
   "source": [
    "#Read the Number\n",
    "#print the Even digits sum from the number\n",
    "#Input:1234\n",
    "#ouput:6(2+4)\n",
    "\n",
    "def evenDigitSum(n):\n",
    "    s=0\n",
    "    while n!=0:\n",
    "        r=n%10\n",
    "        if r%2==0:\n",
    "            s=s+r\n",
    "        n=n//10\n",
    "    return s\n",
    "evenDigitSum(1234)\n"
   ]
  },
  {
   "cell_type": "code",
   "execution_count": 1,
   "metadata": {},
   "outputs": [
    {
     "data": {
      "text/plain": [
       "9"
      ]
     },
     "execution_count": 1,
     "metadata": {},
     "output_type": "execute_result"
    }
   ],
   "source": [
    "#input 19535\n",
    "#output :9(Largest digit in the number)\n",
    "#functional programming\n",
    "\n",
    "def largeDigit(n):\n",
    "    i=0\n",
    "    large=n%10\n",
    "    while n!=0:\n",
    "        r=n%10\n",
    "        if r>large:\n",
    "            large=r\n",
    "        n=n//10\n",
    "    return large\n",
    "largeDigit(19535)"
   ]
  },
  {
   "cell_type": "code",
   "execution_count": 5,
   "metadata": {},
   "outputs": [
    {
     "name": "stdout",
     "output_type": "stream",
     "text": [
      "145\n",
      "yes\n"
     ]
    }
   ],
   "source": [
    "#read as input\n",
    "#output Yes or No\n",
    "\n",
    "#Input:145\n",
    "#output:yes\n",
    "\n",
    "#Input:123\n",
    "#output:No\n",
    "\n",
    "def digitFactSum(n):\n",
    "    s=0\n",
    "    \n",
    "    while (n!=0):\n",
    "        r=n%10\n",
    "        fact=1\n",
    "        for j in range(1,r+1):\n",
    "            fact=fact*j\n",
    "        s=s+fact\n",
    "        n=n//10\n",
    "    return s\n",
    "n=int(input(''))\n",
    "if digitFactSum(n)==n:\n",
    "    print('yes')\n",
    "else:\n",
    "    print('No')\n"
   ]
  },
  {
   "cell_type": "code",
   "execution_count": 21,
   "metadata": {},
   "outputs": [
    {
     "name": "stdout",
     "output_type": "stream",
     "text": [
      "Yes\n"
     ]
    }
   ],
   "source": [
    "def factorial(n):\n",
    "    fact=1\n",
    "    i=1\n",
    "    while i<=n:\n",
    "        fact=fact*i\n",
    "        i=i+1\n",
    "    return fact\n",
    "def digitfactsum(n):\n",
    "    s=0\n",
    "    buffer=n\n",
    "    while n!=0:\n",
    "        r=n%10\n",
    "        s=s+factorial(r)\n",
    "        n=n//10\n",
    "    if buffer==s:\n",
    "        return 'Yes'\n",
    "    else:\n",
    "        return'No'\n",
    "print(digitfactsum(145))"
   ]
  },
  {
   "cell_type": "code",
   "execution_count": 17,
   "metadata": {},
   "outputs": [
    {
     "name": "stdout",
     "output_type": "stream",
     "text": [
      "palindrome\n",
      "Not palindrome\n"
     ]
    }
   ],
   "source": [
    "def isPalindrome(n):\n",
    "    i=1\n",
    "    p=0\n",
    "    buffer=n\n",
    "    while n!=0:\n",
    "        r=n%10\n",
    "        p=p*10+r\n",
    "        n=n//10\n",
    "    if buffer==p:\n",
    "        return 'palindrome'\n",
    "    else:\n",
    "        return 'Not palindrome'\n",
    "print(isPalindrome(121))\n",
    "print(isPalindrome(123))\n",
    "        \n",
    "    \n",
    "    "
   ]
  },
  {
   "cell_type": "code",
   "execution_count": 22,
   "metadata": {},
   "outputs": [
    {
     "name": "stdout",
     "output_type": "stream",
     "text": [
      "11 12 13 14 15 16 17 18 19 20 21 22 23 24 25 "
     ]
    }
   ],
   "source": [
    "#function to print the number between the limits\n",
    "#input:11 25\n",
    "#output:11 12 .....25\n",
    "def printseries(lb,ub):\n",
    "    for x in range(lb,ub+1):\n",
    "        print(x,end=' ')\n",
    "    return\n",
    "printseries(11,25)"
   ]
  },
  {
   "cell_type": "code",
   "execution_count": 26,
   "metadata": {},
   "outputs": [
    {
     "name": "stdout",
     "output_type": "stream",
     "text": [
      "500 502 504 506 508 510 512 514 516 518 520 \n",
      "500 505 510 515 520 "
     ]
    }
   ],
   "source": [
    "#FUNCTION TO PRINT THE ALTERNATE NUMBER\n",
    "#[500,520]---500  502  504.....520\n",
    "#[100,140]---100 104 107......140\n",
    "\n",
    "def alternatives(lb,ub):\n",
    "    for x in range(lb,ub+1,2):\n",
    "        print(x,end=' ')\n",
    "    print()\n",
    "    for x in range(lb,ub+1,5):\n",
    "        print(x,end=' ')\n",
    "    return\n",
    "alternatives(500,520)\n",
    "        "
   ]
  },
  {
   "cell_type": "code",
   "execution_count": null,
   "metadata": {},
   "outputs": [],
   "source": []
  },
  {
   "cell_type": "code",
   "execution_count": null,
   "metadata": {},
   "outputs": [],
   "source": []
  }
 ],
 "metadata": {
  "kernelspec": {
   "display_name": "Python 3",
   "language": "python",
   "name": "python3"
  },
  "language_info": {
   "codemirror_mode": {
    "name": "ipython",
    "version": 3
   },
   "file_extension": ".py",
   "mimetype": "text/x-python",
   "name": "python",
   "nbconvert_exporter": "python",
   "pygments_lexer": "ipython3",
   "version": "3.7.3"
  }
 },
 "nbformat": 4,
 "nbformat_minor": 2
}
