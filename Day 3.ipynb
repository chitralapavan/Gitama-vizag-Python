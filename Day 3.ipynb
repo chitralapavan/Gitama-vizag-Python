{
 "cells": [
  {
   "cell_type": "code",
   "execution_count": 10,
   "metadata": {},
   "outputs": [
    {
     "name": "stdout",
     "output_type": "stream",
     "text": [
      "o\n",
      "h\n",
      "6\n",
      "n\n",
      "n\n",
      "h\n",
      "P\n"
     ]
    }
   ],
   "source": [
    "s1=\"Python\"\n",
    "print(s1[4])\n",
    "print(s1[3])\n",
    "print(len(s1))\n",
    "print(s1[len(s1)-1])\n",
    "print(s1[-1])\n",
    "print(s1[-3])\n",
    "print(s1[-6])"
   ]
  },
  {
   "cell_type": "code",
   "execution_count": 16,
   "metadata": {},
   "outputs": [
    {
     "name": "stdout",
     "output_type": "stream",
     "text": [
      "Py\n",
      "on\n",
      "hon\n",
      "tho\n",
      "ytho\n"
     ]
    }
   ],
   "source": [
    "print(s1[0:2])#Access first two characters\n",
    "print(s1[-2:])#Access the last two characters\n",
    "print(s1[3:])#Access the character 3 till the last\n",
    "print(s1[2:5])#Access the character from 2 to 5\n",
    "print(s1[1:-1])#Access the character Except the first and last character"
   ]
  },
  {
   "cell_type": "code",
   "execution_count": 17,
   "metadata": {},
   "outputs": [
    {
     "data": {
      "text/plain": [
       "'nohtyP'"
      ]
     },
     "execution_count": 17,
     "metadata": {},
     "output_type": "execute_result"
    }
   ],
   "source": [
    "s1[-1::-1] #Reverse the string"
   ]
  },
  {
   "cell_type": "code",
   "execution_count": 30,
   "metadata": {},
   "outputs": [
    {
     "name": "stdout",
     "output_type": "stream",
     "text": [
      "Pto\n"
     ]
    },
    {
     "data": {
      "text/plain": [
       "'Ph'"
      ]
     },
     "execution_count": 30,
     "metadata": {},
     "output_type": "execute_result"
    }
   ],
   "source": [
    "print(s1[::2] )   #Alternate characters\n",
    "s1[::3]"
   ]
  },
  {
   "cell_type": "code",
   "execution_count": 37,
   "metadata": {},
   "outputs": [
    {
     "name": "stdout",
     "output_type": "stream",
     "text": [
      "nhy\n",
      "Pto\n"
     ]
    }
   ],
   "source": [
    "#Alternate character to reverse string\n",
    "print(s1[::-2])\n",
    "print(s1[::2])"
   ]
  },
  {
   "cell_type": "markdown",
   "metadata": {},
   "source": [
    "## Functional with string operators\n"
   ]
  },
  {
   "cell_type": "code",
   "execution_count": 42,
   "metadata": {},
   "outputs": [
    {
     "data": {
      "text/plain": [
       "'nohtyP'"
      ]
     },
     "execution_count": 42,
     "metadata": {},
     "output_type": "execute_result"
    }
   ],
   "source": [
    "#reverse the string\n",
    "def reverseStr(s):\n",
    "    return s[-1::-1]\n",
    "reverseStr('Python')"
   ]
  },
  {
   "cell_type": "code",
   "execution_count": 48,
   "metadata": {},
   "outputs": [
    {
     "name": "stdout",
     "output_type": "stream",
     "text": [
      "False\n",
      "True\n"
     ]
    }
   ],
   "source": [
    "#check the string is palindrome or not\n",
    "def isPalindrome(s):\n",
    "    if s == s[-1::-1]:\n",
    "        return True\n",
    "    return False\n",
    "print(isPalindrome('Python'))\n",
    "print(isPalindrome('nitin'))"
   ]
  },
  {
   "cell_type": "code",
   "execution_count": 57,
   "metadata": {},
   "outputs": [
    {
     "name": "stdout",
     "output_type": "stream",
     "text": [
      "P T "
     ]
    }
   ],
   "source": [
    "#Function to upper case characters\n",
    "#Examples :Python--P T\n",
    "\n",
    "#ASCII\n",
    "#A-Z :65-90\n",
    "#a-z :97-122\n",
    "#0-9:48-57\n",
    "#space:32\n",
    "def printUpper(s):\n",
    "    for i in range(len(s)):\n",
    "        if ord(s[i])>=65 and ord(s[i])<=90:\n",
    "            print(s[i],end=' ')\n",
    "    return\n",
    "printUpper('PyThon')"
   ]
  },
  {
   "cell_type": "code",
   "execution_count": 72,
   "metadata": {},
   "outputs": [
    {
     "name": "stdout",
     "output_type": "stream",
     "text": [
      "2\n",
      "4\n"
     ]
    },
    {
     "data": {
      "text/plain": [
       "'programming'"
      ]
     },
     "execution_count": 72,
     "metadata": {},
     "output_type": "execute_result"
    }
   ],
   "source": [
    "#Function to return the output as\"Same count\" or \"programming\"\n",
    "#samecount--Lower and Upper chars have same Count\n",
    "#programming--count of lower and upper case is not same\n",
    "#Ex:1:PyThOn--3 P T O\n",
    "#           --3 y h n\n",
    "#output:samecount\n",
    "#ex2  PyThon--2 P N\n",
    "#            --y h o n\n",
    "#output:programming\n",
    "\n",
    "def isFunction(s):\n",
    "    count1=0\n",
    "    count2=0\n",
    "    for i in range(len(s)):\n",
    "        if ord(s[i])>=65 and ord(s[i])<=90:\n",
    "            count1=count1+1\n",
    "        else:\n",
    "             if ord(s[i])>=97 and ord(s[i])<=122:\n",
    "                count2=count2+1\n",
    "    print(count1)\n",
    "    print(count2)\n",
    "    if count1==count2:\n",
    "        return \"samecount\"\n",
    "    return\"programming\"\n",
    "isFunction('PyThon')\n",
    "       "
   ]
  },
  {
   "cell_type": "code",
   "execution_count": null,
   "metadata": {},
   "outputs": [],
   "source": []
  },
  {
   "cell_type": "code",
   "execution_count": 50,
   "metadata": {},
   "outputs": [
    {
     "data": {
      "text/plain": [
       "65"
      ]
     },
     "execution_count": 50,
     "metadata": {},
     "output_type": "execute_result"
    }
   ],
   "source": [
    "ord('A')"
   ]
  },
  {
   "cell_type": "code",
   "execution_count": 80,
   "metadata": {},
   "outputs": [
    {
     "name": "stdout",
     "output_type": "stream",
     "text": [
      "9 9 0 "
     ]
    }
   ],
   "source": [
    "#function to Extract the digit from the string\n",
    "#Ex:1\n",
    "#input:applica9t90\n",
    "#output:9 9 0\n",
    "def Digits(n):\n",
    "    for i in range (len(n)):\n",
    "        if ord(n[i])>=48 and ord(n[i])<=57:\n",
    "            print(n[i],end=' ')\n",
    "            \n",
    "    return\n",
    "    \n",
    "Digits('applica9t90')"
   ]
  },
  {
   "cell_type": "code",
   "execution_count": null,
   "metadata": {},
   "outputs": [],
   "source": [
    "#function to add the digits of the string\n",
    "#ex1:input:Appli8cation89\n",
    "#output:26(1+8+8+9)"
   ]
  },
  {
   "cell_type": "code",
   "execution_count": 101,
   "metadata": {},
   "outputs": [
    {
     "name": "stdout",
     "output_type": "stream",
     "text": [
      "9 9 0 \n",
      "18\n"
     ]
    }
   ],
   "source": [
    "def isExtract(n):\n",
    "    s=0\n",
    "    for i in range (len(n)):\n",
    "        if ord(n[i])>=48 and ord(n[i])<=57:\n",
    "            print(n[i],end=' ')\n",
    "            s=s+int(n[i])\n",
    "           #s=s+(ord(s[i])-48)\n",
    "    print()\n",
    "    print(s)\n",
    "    return\n",
    "isExtract('applica9t90')"
   ]
  },
  {
   "cell_type": "code",
   "execution_count": 11,
   "metadata": {},
   "outputs": [
    {
     "name": "stdout",
     "output_type": "stream",
     "text": [
      "MADE"
     ]
    }
   ],
   "source": [
    "#function to 2nd word in uppercase\n",
    "#ex:1  input:Python Mode Easy\n",
    "#output:MADE\n",
    "#ex2:input:Learn Python Strings \n",
    "#output:PYTHON\n",
    "def conUpper(n):\n",
    "    spacount=0\n",
    "    for i in range (len(n)):\n",
    "        if ord(n[i]) == 32:\n",
    "            spacount += 1\n",
    "        if spacount ==1:\n",
    "            if ord(n[i])>=48 and ord(n[i])<=90:\n",
    "                print(n[i], end='')\n",
    "            elif  ord(n[i])>=97 and ord(n[i])<=122:\n",
    "                print(chr(ord(n[i])-32),end='')\n",
    "        if spacount==2:\n",
    "            break\n",
    "    return\n",
    "                \n",
    "            \n",
    "conUpper('Python made easy')"
   ]
  },
  {
   "cell_type": "markdown",
   "metadata": {},
   "source": [
    "# List\n",
    "- one of the Data structure in python\n",
    "- Data structure means to store,sort and serach options\n",
    "- it's one of the commom Data structure in python,the items of List seperated by comma and enclosed in square brackets{}\n",
    "  - Example\n",
    "   - list1=[1,2,3,4,5]\n",
    "   - list2={\"Gitam\",1,2,1.89,\"vizag]"
   ]
  },
  {
   "cell_type": "code",
   "execution_count": 25,
   "metadata": {},
   "outputs": [
    {
     "name": "stdout",
     "output_type": "stream",
     "text": [
      "[1, 8, 16, 9, 2]\n",
      "1\n",
      "8\n",
      "2\n",
      "9\n",
      "[16, 9, 2]\n",
      "[9, 2]\n",
      "[1, 9]\n"
     ]
    }
   ],
   "source": [
    "li=[1,8,16,9,2]\n",
    "print(li)\n",
    "print(li[0])\n",
    "print(li[1])\n",
    "print(li[-1])\n",
    "print(li[-2])\n",
    "print(li[2:])\n",
    "print(li[3:5])\n",
    "print(li[::3])\n",
    "\n"
   ]
  },
  {
   "cell_type": "code",
   "execution_count": 29,
   "metadata": {},
   "outputs": [
    {
     "name": "stdout",
     "output_type": "stream",
     "text": [
      "['Gitam', 1582, 2018, 'vizag']\n",
      "['Gitam', 1234, 2018, 'vizag']\n"
     ]
    }
   ],
   "source": [
    "li=[\"Gitam\",1582,2018,\"vizag\"]\n",
    "print(li)\n",
    "#update the  list item with value using Index\n",
    "li[1]=1234\n",
    "print(li)"
   ]
  },
  {
   "cell_type": "code",
   "execution_count": 32,
   "metadata": {},
   "outputs": [
    {
     "name": "stdout",
     "output_type": "stream",
     "text": [
      "['Gitam', 1234]\n"
     ]
    }
   ],
   "source": [
    "#Delete the list item from the list\n",
    "del li[2]\n",
    "print(li)"
   ]
  },
  {
   "cell_type": "code",
   "execution_count": 41,
   "metadata": {},
   "outputs": [
    {
     "name": "stdout",
     "output_type": "stream",
     "text": [
      "5\n",
      "[1, 2, 3, 4, 5, 1, 2, 3, 4, 5]\n",
      "True\n",
      "False\n",
      "1 2 3 4 5 \n"
     ]
    }
   ],
   "source": [
    "#Basic list operators\n",
    "li=[1,2,3,4,5]\n",
    "#length of the list\n",
    "print(len(li))\n",
    "#list of repitation\n",
    "print(li*2)\n",
    "#to know certain item is present in the list ot not\n",
    "print(4 in li)\n",
    "print(7 in li)\n",
    "#Acccess the list items from the iterations\n",
    "#1 way to definr\n",
    "for i in range (len(li)):\n",
    "    print(li[i],end=' ')\n",
    "print()\n",
    "#2 way to define to print the prints\n"
   ]
  },
  {
   "cell_type": "code",
   "execution_count": 45,
   "metadata": {},
   "outputs": [
    {
     "name": "stdout",
     "output_type": "stream",
     "text": [
      "25\n",
      "1\n",
      "56\n",
      "11.2\n"
     ]
    }
   ],
   "source": [
    "#basic list  functions\n",
    "li=[1,9,16,25,5]\n",
    "print(max(li))#max in the list\n",
    "print(min(li))#min in the list\n",
    "print(sum(li))#sum of the list\n",
    "print(sum(li)/len(li))#Avg of the list"
   ]
  },
  {
   "cell_type": "code",
   "execution_count": 21,
   "metadata": {},
   "outputs": [
    {
     "name": "stdout",
     "output_type": "stream",
     "text": [
      "[1, 9, 56, 16, 25, 5, 29, 9]\n",
      "[1, 9, 56, 16, 25, 5, 29, 9]\n"
     ]
    }
   ],
   "source": [
    "#methods of the list\n",
    "li=[1,9,16,25,5]\n",
    "li.append(29)\n",
    "li.insert(2,56)\n",
    "li.append(9)\n",
    "print(li)\n",
    "li.count(9)\n",
    "li.index(56)\n",
    "print(li)\n",
    "\n"
   ]
  },
  {
   "cell_type": "code",
   "execution_count": 33,
   "metadata": {},
   "outputs": [
    {
     "name": "stdout",
     "output_type": "stream",
     "text": [
      "[1, 3, 4, 6, 9]\n",
      "[1, 3, 4, 6]\n"
     ]
    }
   ],
   "source": [
    "#method of list objects\n",
    "li=[1,9,3,4,6,]\n",
    "li.sort()\n",
    "print(li)\n",
    "li.pop()\n",
    "print(li)"
   ]
  },
  {
   "cell_type": "code",
   "execution_count": 39,
   "metadata": {},
   "outputs": [
    {
     "name": "stdout",
     "output_type": "stream",
     "text": [
      "[1, 5, 9, 7, 1, 16, 19, 25]\n"
     ]
    }
   ],
   "source": [
    "li=[1,5,9,7]\n",
    "li1=[1,16,19,25]\n",
    "li.extend(li1)\n",
    "print(li)\n"
   ]
  },
  {
   "cell_type": "code",
   "execution_count": 43,
   "metadata": {},
   "outputs": [
    {
     "name": "stdout",
     "output_type": "stream",
     "text": [
      "45\n",
      "22\n"
     ]
    }
   ],
   "source": [
    "#Function to return  the large number from the list\n",
    "def largeNumber(li):\n",
    "    li.sort()\n",
    "    return li[-1]\n",
    "def genericLarge(li,n):\n",
    "    li.sort()\n",
    "    return li[-n]\n",
    "li=[19,1,25,6,9,45,22]\n",
    "print(largeNumber(li))\n",
    "print(genericLarge(li,3))"
   ]
  },
  {
   "cell_type": "code",
   "execution_count": 46,
   "metadata": {},
   "outputs": [
    {
     "name": "stdout",
     "output_type": "stream",
     "text": [
      "1\n",
      "6\n"
     ]
    }
   ],
   "source": [
    "#Function to find least and generic leastnumber from the list\n",
    "def leastNumber(li):\n",
    "    li.sort()\n",
    "    return li[0]\n",
    "def genericNumber(li,n):\n",
    "    li.sort()\n",
    "    return li[n-1]\n",
    "li=[19,1,25,6,9,45,22]\n",
    "print(leastNumber(li))\n",
    "print(genericNumber(li,2))\n"
   ]
  },
  {
   "cell_type": "markdown",
   "metadata": {},
   "source": [
    "### file handling in python\n",
    "- flie -Document which contains some information and resides on permanent devices\n",
    "- Differnet types of PDF-- .txt,.pdf,.doc,.ppf and etc...\n",
    "- input-- keymethods\n",
    "- output--files system\n"
   ]
  },
  {
   "cell_type": "code",
   "execution_count": 47,
   "metadata": {},
   "outputs": [
    {
     "name": "stdout",
     "output_type": "stream",
     "text": [
      "File is suceessfully created and Data has inserted\n"
     ]
    }
   ],
   "source": [
    "#function to create File and write some data to the file\n",
    "def createFile(filename):\n",
    "    f=open(filename,'w')\n",
    "    for i in range(10):\n",
    "        f.write('This is %d Line \\n '%i)\n",
    "    print('File is suceessfully created and Data has inserted')\n",
    "    return\n",
    "createFile('data.txt')\n"
   ]
  },
  {
   "cell_type": "code",
   "execution_count": 48,
   "metadata": {},
   "outputs": [
    {
     "data": {
      "text/plain": [
       "'C:\\\\Users\\\\Pavan\\\\Desktop\\\\probelm solving and programming\\\\Untitled Folder'"
      ]
     },
     "execution_count": 48,
     "metadata": {},
     "output_type": "execute_result"
    }
   ],
   "source": [
    "pwd"
   ]
  },
  {
   "cell_type": "code",
   "execution_count": 75,
   "metadata": {},
   "outputs": [
    {
     "name": "stdout",
     "output_type": "stream",
     "text": [
      "completed successfully \n"
     ]
    }
   ],
   "source": [
    "def createFile(filename):\n",
    "    f=open(filename,'w')\n",
    "    f.write('Gitam vizag python training\\n')\n",
    "    print('completed successfully ')\n",
    "    return\n",
    "createFile('data.txt')"
   ]
  },
  {
   "cell_type": "code",
   "execution_count": 76,
   "metadata": {},
   "outputs": [
    {
     "name": "stdout",
     "output_type": "stream",
     "text": [
      "program completed successfully\n"
     ]
    }
   ],
   "source": [
    "#Mode---a(if the file is not availble it creates the flies)\n",
    "#---if file is already present with same name\n",
    "#--append the data at end of theprevious line\n",
    "def appendMode(filename):\n",
    "    f=open(filename,'a')\n",
    "    f.write('Gitam Vizag\\n')\n",
    "    f.write('python programming')\n",
    "    print('program completed successfully')\n",
    "    return\n",
    "appendMode('data.txt')    "
   ]
  },
  {
   "cell_type": "code",
   "execution_count": 54,
   "metadata": {},
   "outputs": [
    {
     "name": "stdout",
     "output_type": "stream",
     "text": [
      "Gitam vizag python training\n",
      "Gitam Vizag\n",
      "python programming\n",
      "\n"
     ]
    }
   ],
   "source": [
    "#function to read the file\n",
    "def  readFileData(filename):\n",
    "    f=open(filename,'r')\n",
    "    if f.mode=='r':\n",
    "        a=f.read()\n",
    "        print(a)\n",
    "    f.close()\n",
    "    return\n",
    "readFileData('data.txt')\n",
    "    "
   ]
  },
  {
   "cell_type": "code",
   "execution_count": 56,
   "metadata": {},
   "outputs": [
    {
     "name": "stdout",
     "output_type": "stream",
     "text": [
      "['Py', 'th', 'on', 'pro', 'gram', 'ming']\n"
     ]
    }
   ],
   "source": [
    "#Analysis on the file --word count,char count,digit count\n",
    "s1='Py th on pro gram ming'\n",
    "print(s1.split())\n"
   ]
  },
  {
   "cell_type": "code",
   "execution_count": 58,
   "metadata": {},
   "outputs": [
    {
     "data": {
      "text/plain": [
       "['Gitam',\n",
       " 'vizag',\n",
       " 'python',\n",
       " 'training',\n",
       " 'Gitam',\n",
       " 'Vizag',\n",
       " 'python',\n",
       " 'programming']"
      ]
     },
     "execution_count": 58,
     "metadata": {},
     "output_type": "execute_result"
    }
   ],
   "source": [
    "#word count --Input file\n",
    "def wordCount(filename):\n",
    "    with open(filename,'r') as f: #idomatic programming\n",
    "        if f.mode =='r':\n",
    "            a = f.read()\n",
    "            li=a.split()\n",
    "    return li\n",
    "wordCount('data.txt')"
   ]
  },
  {
   "cell_type": "code",
   "execution_count": 69,
   "metadata": {},
   "outputs": [
    {
     "data": {
      "text/plain": [
       "2"
      ]
     },
     "execution_count": 69,
     "metadata": {},
     "output_type": "execute_result"
    }
   ],
   "source": [
    "#specific word count fom the file\n",
    "#example #1\n",
    "#input --This\n",
    "#output--10\n",
    "#ex2 input--Gitam \n",
    "#output:1\n",
    "def wordCount(filename,word):\n",
    "    with open(filename,'r') as f: \n",
    "        if f.mode =='r':\n",
    "            a=f.read()\n",
    "            li=a.split()\n",
    "        \n",
    "    return li.count(word)\n",
    "wordCount('data.txt','Gitam')\n",
    "    \n"
   ]
  },
  {
   "cell_type": "code",
   "execution_count": 71,
   "metadata": {},
   "outputs": [
    {
     "data": {
      "text/plain": [
       "59"
      ]
     },
     "execution_count": 71,
     "metadata": {},
     "output_type": "execute_result"
    }
   ],
   "source": [
    "#function to find the charcter count from the input file\n",
    "def charCount(filename):\n",
    "    with open(filename,'r') as f:\n",
    "        if f.mode =='r':\n",
    "            a=f.read()\n",
    "            li=list(a)  #converts the input string into sequence of characters\n",
    "                              #and finding the len of list become as character  count og the input file\n",
    "                                                                       \n",
    "    return len(li)\n",
    "charCount('data.txt')\n"
   ]
  },
  {
   "cell_type": "code",
   "execution_count": 72,
   "metadata": {},
   "outputs": [],
   "source": [
    "s=\"python programming\"\n"
   ]
  },
  {
   "cell_type": "code",
   "execution_count": 77,
   "metadata": {},
   "outputs": [
    {
     "data": {
      "text/plain": [
       "3"
      ]
     },
     "execution_count": 77,
     "metadata": {},
     "output_type": "execute_result"
    }
   ],
   "source": [
    "#find the no of linear or rows  in the given input stream\n",
    "def findLineCount(filename):\n",
    "    with open(filename,'r') as f:\n",
    "        if f.mode =='r':\n",
    "            a=f.read()\n",
    "            li=a.split('\\n')\n",
    "    return len(li)\n",
    "findLineCount('data.txt')\n",
    "    "
   ]
  },
  {
   "cell_type": "code",
   "execution_count": 84,
   "metadata": {},
   "outputs": [
    {
     "data": {
      "text/plain": [
       "'upper case:3 Lower case :48 Digit :0'"
      ]
     },
     "execution_count": 84,
     "metadata": {},
     "output_type": "execute_result"
    }
   ],
   "source": [
    "#function tofind the upper case and lower case characters\n",
    "#from the input stream\n",
    "def caseCount(filename):\n",
    "    cntUpper=0\n",
    "    cntLower=0\n",
    "    cntDigit=0\n",
    "    with open(filename,'r') as f:\n",
    "        if f.mode=='r':\n",
    "                a=f.read()\n",
    "                li=list(a)\n",
    "    for i in range (len(li)):\n",
    "        if ord(li[i])>=65 and ord(li[i])<=90:\n",
    "            cntUpper+=1\n",
    "        elif ord(li[i])>=97 and ord(li[i])<=122:\n",
    "            cntLower+=1\n",
    "        elif ord(li[i])>=48 and ord(li[i])<=57:\n",
    "            cntDigit+=1\n",
    "    output= 'upper case:{0} Lower case :{1} Digit :{2}'.format(cntUpper,cntLower,cntDigit)\n",
    "    return output\n",
    "caseCount('data.txt')"
   ]
  },
  {
   "cell_type": "code",
   "execution_count": null,
   "metadata": {},
   "outputs": [],
   "source": []
  },
  {
   "cell_type": "code",
   "execution_count": null,
   "metadata": {},
   "outputs": [],
   "source": []
  }
 ],
 "metadata": {
  "kernelspec": {
   "display_name": "Python 3",
   "language": "python",
   "name": "python3"
  },
  "language_info": {
   "codemirror_mode": {
    "name": "ipython",
    "version": 3
   },
   "file_extension": ".py",
   "mimetype": "text/x-python",
   "name": "python",
   "nbconvert_exporter": "python",
   "pygments_lexer": "ipython3",
   "version": "3.7.3"
  }
 },
 "nbformat": 4,
 "nbformat_minor": 2
}
